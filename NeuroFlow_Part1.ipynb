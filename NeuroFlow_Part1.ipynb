{
  "nbformat": 4,
  "nbformat_minor": 0,
  "metadata": {
    "colab": {
      "name": "NeuroFlow_Part1.ipynb",
      "provenance": [],
      "collapsed_sections": []
    },
    "kernelspec": {
      "name": "python3",
      "display_name": "Python 3"
    },
    "language_info": {
      "name": "python"
    }
  },
  "cells": [
    {
      "cell_type": "code",
      "metadata": {
        "colab": {
          "base_uri": "https://localhost:8080/",
          "height": 419
        },
        "id": "cBJEMl4dthTb",
        "outputId": "5414d6db-c0ed-41d4-bc6b-995077c77c42"
      },
      "source": [
        "# Read in given CSV - phq_all_final.csv - Renamed as GAD7\n",
        "import numpy as np\n",
        "import pandas as pd\n",
        "\n",
        "df = pd.read_csv('/content/GAD7.csv', sep=',')\n",
        "df"
      ],
      "execution_count": 61,
      "outputs": [
        {
          "output_type": "execute_result",
          "data": {
            "text/html": [
              "<div>\n",
              "<style scoped>\n",
              "    .dataframe tbody tr th:only-of-type {\n",
              "        vertical-align: middle;\n",
              "    }\n",
              "\n",
              "    .dataframe tbody tr th {\n",
              "        vertical-align: top;\n",
              "    }\n",
              "\n",
              "    .dataframe thead th {\n",
              "        text-align: right;\n",
              "    }\n",
              "</style>\n",
              "<table border=\"1\" class=\"dataframe\">\n",
              "  <thead>\n",
              "    <tr style=\"text-align: right;\">\n",
              "      <th></th>\n",
              "      <th>date</th>\n",
              "      <th>patient_id</th>\n",
              "      <th>type</th>\n",
              "      <th>patient_date_created</th>\n",
              "      <th>score</th>\n",
              "    </tr>\n",
              "  </thead>\n",
              "  <tbody>\n",
              "    <tr>\n",
              "      <th>0</th>\n",
              "      <td>2019-08-26T13:32:43.019162</td>\n",
              "      <td>8430</td>\n",
              "      <td>gad7</td>\n",
              "      <td>2019-06-03T13:23:02.63568</td>\n",
              "      <td>6</td>\n",
              "    </tr>\n",
              "    <tr>\n",
              "      <th>1</th>\n",
              "      <td>2019-11-15T17:55:11.364877</td>\n",
              "      <td>8430</td>\n",
              "      <td>gad7</td>\n",
              "      <td>2019-06-03T13:23:02.63568</td>\n",
              "      <td>1</td>\n",
              "    </tr>\n",
              "    <tr>\n",
              "      <th>2</th>\n",
              "      <td>2019-10-07T18:23:29.611351</td>\n",
              "      <td>14338</td>\n",
              "      <td>gad7</td>\n",
              "      <td>2019-06-03T13:32:30.66846</td>\n",
              "      <td>10</td>\n",
              "    </tr>\n",
              "    <tr>\n",
              "      <th>3</th>\n",
              "      <td>2019-11-04T20:16:28.610965</td>\n",
              "      <td>14338</td>\n",
              "      <td>gad7</td>\n",
              "      <td>2019-06-03T13:32:30.66846</td>\n",
              "      <td>7</td>\n",
              "    </tr>\n",
              "    <tr>\n",
              "      <th>4</th>\n",
              "      <td>2019-12-02T20:56:55.966354</td>\n",
              "      <td>14338</td>\n",
              "      <td>gad7</td>\n",
              "      <td>2019-06-03T13:32:30.66846</td>\n",
              "      <td>9</td>\n",
              "    </tr>\n",
              "    <tr>\n",
              "      <th>...</th>\n",
              "      <td>...</td>\n",
              "      <td>...</td>\n",
              "      <td>...</td>\n",
              "      <td>...</td>\n",
              "      <td>...</td>\n",
              "    </tr>\n",
              "    <tr>\n",
              "      <th>53693</th>\n",
              "      <td>2020-07-31T13:59:13.201741</td>\n",
              "      <td>10683</td>\n",
              "      <td>gad7</td>\n",
              "      <td>2020-07-31T13:54:20.164253</td>\n",
              "      <td>1</td>\n",
              "    </tr>\n",
              "    <tr>\n",
              "      <th>53694</th>\n",
              "      <td>2020-07-31T15:08:56.079027</td>\n",
              "      <td>12344</td>\n",
              "      <td>gad7</td>\n",
              "      <td>2020-07-31T15:06:51.04373</td>\n",
              "      <td>1</td>\n",
              "    </tr>\n",
              "    <tr>\n",
              "      <th>53695</th>\n",
              "      <td>2020-07-31T15:52:50.353265</td>\n",
              "      <td>17475</td>\n",
              "      <td>gad7</td>\n",
              "      <td>2020-07-31T15:40:07.726529</td>\n",
              "      <td>7</td>\n",
              "    </tr>\n",
              "    <tr>\n",
              "      <th>53696</th>\n",
              "      <td>2020-07-31T17:36:57.057913</td>\n",
              "      <td>9069</td>\n",
              "      <td>gad7</td>\n",
              "      <td>2020-07-31T17:33:27.096572</td>\n",
              "      <td>3</td>\n",
              "    </tr>\n",
              "    <tr>\n",
              "      <th>53697</th>\n",
              "      <td>2020-07-31T17:58:53.067462</td>\n",
              "      <td>4870</td>\n",
              "      <td>gad7</td>\n",
              "      <td>2020-07-31T17:58:21.004418</td>\n",
              "      <td>4</td>\n",
              "    </tr>\n",
              "  </tbody>\n",
              "</table>\n",
              "<p>53698 rows × 5 columns</p>\n",
              "</div>"
            ],
            "text/plain": [
              "                             date  ...  score\n",
              "0      2019-08-26T13:32:43.019162  ...      6\n",
              "1      2019-11-15T17:55:11.364877  ...      1\n",
              "2      2019-10-07T18:23:29.611351  ...     10\n",
              "3      2019-11-04T20:16:28.610965  ...      7\n",
              "4      2019-12-02T20:56:55.966354  ...      9\n",
              "...                           ...  ...    ...\n",
              "53693  2020-07-31T13:59:13.201741  ...      1\n",
              "53694  2020-07-31T15:08:56.079027  ...      1\n",
              "53695  2020-07-31T15:52:50.353265  ...      7\n",
              "53696  2020-07-31T17:36:57.057913  ...      3\n",
              "53697  2020-07-31T17:58:53.067462  ...      4\n",
              "\n",
              "[53698 rows x 5 columns]"
            ]
          },
          "metadata": {
            "tags": []
          },
          "execution_count": 61
        }
      ]
    },
    {
      "cell_type": "code",
      "metadata": {
        "colab": {
          "base_uri": "https://localhost:8080/"
        },
        "id": "2Z8rQTJNxv-b",
        "outputId": "28489114-2c60-4c4c-b3da-455ff57aa5eb"
      },
      "source": [
        "# Check data types for each column.\n",
        "df.dtypes"
      ],
      "execution_count": 43,
      "outputs": [
        {
          "output_type": "execute_result",
          "data": {
            "text/plain": [
              "date                    object\n",
              "patient_id               int64\n",
              "type                    object\n",
              "patient_date_created    object\n",
              "score                    int64\n",
              "dtype: object"
            ]
          },
          "metadata": {
            "tags": []
          },
          "execution_count": 43
        }
      ]
    },
    {
      "cell_type": "code",
      "metadata": {
        "colab": {
          "base_uri": "https://localhost:8080/"
        },
        "id": "eUh8yKhbu31Z",
        "outputId": "21db0cd5-4fd2-48de-e4f1-e018897635f2"
      },
      "source": [
        "# Check data for missing values.\n",
        "df.isnull().sum()"
      ],
      "execution_count": 44,
      "outputs": [
        {
          "output_type": "execute_result",
          "data": {
            "text/plain": [
              "date                    0\n",
              "patient_id              0\n",
              "type                    0\n",
              "patient_date_created    0\n",
              "score                   0\n",
              "dtype: int64"
            ]
          },
          "metadata": {
            "tags": []
          },
          "execution_count": 44
        }
      ]
    },
    {
      "cell_type": "code",
      "metadata": {
        "colab": {
          "base_uri": "https://localhost:8080/"
        },
        "id": "7MazJAld2IAL",
        "outputId": "4172a28f-0762-4934-b09c-da78115eba26"
      },
      "source": [
        "# Find how many patients there are in the dataset.\n",
        "len(df.patient_id.unique())"
      ],
      "execution_count": 45,
      "outputs": [
        {
          "output_type": "execute_result",
          "data": {
            "text/plain": [
              "15502"
            ]
          },
          "metadata": {
            "tags": []
          },
          "execution_count": 45
        }
      ]
    },
    {
      "cell_type": "code",
      "metadata": {
        "colab": {
          "base_uri": "https://localhost:8080/",
          "height": 419
        },
        "id": "g8CY2L_SvSQf",
        "outputId": "5a558c3d-0d13-48cc-aacb-c165f8dc4c1e"
      },
      "source": [
        "# Convert \"date\" and \"patient_date_created\" columns into a datetime format that can be used for visualization.\n",
        "df['date'] = pd.to_datetime(df['date'], format='%Y-%m-%d %H:%M:%S.%f')\n",
        "\n",
        "df['patient_date_created'] = pd.to_datetime(df['patient_date_created'], format='%Y-%m-%d %H:%M:%S.%f')\n",
        "df"
      ],
      "execution_count": 62,
      "outputs": [
        {
          "output_type": "execute_result",
          "data": {
            "text/html": [
              "<div>\n",
              "<style scoped>\n",
              "    .dataframe tbody tr th:only-of-type {\n",
              "        vertical-align: middle;\n",
              "    }\n",
              "\n",
              "    .dataframe tbody tr th {\n",
              "        vertical-align: top;\n",
              "    }\n",
              "\n",
              "    .dataframe thead th {\n",
              "        text-align: right;\n",
              "    }\n",
              "</style>\n",
              "<table border=\"1\" class=\"dataframe\">\n",
              "  <thead>\n",
              "    <tr style=\"text-align: right;\">\n",
              "      <th></th>\n",
              "      <th>date</th>\n",
              "      <th>patient_id</th>\n",
              "      <th>type</th>\n",
              "      <th>patient_date_created</th>\n",
              "      <th>score</th>\n",
              "    </tr>\n",
              "  </thead>\n",
              "  <tbody>\n",
              "    <tr>\n",
              "      <th>0</th>\n",
              "      <td>2019-08-26 13:32:43.019162</td>\n",
              "      <td>8430</td>\n",
              "      <td>gad7</td>\n",
              "      <td>2019-06-03 13:23:02.635680</td>\n",
              "      <td>6</td>\n",
              "    </tr>\n",
              "    <tr>\n",
              "      <th>1</th>\n",
              "      <td>2019-11-15 17:55:11.364877</td>\n",
              "      <td>8430</td>\n",
              "      <td>gad7</td>\n",
              "      <td>2019-06-03 13:23:02.635680</td>\n",
              "      <td>1</td>\n",
              "    </tr>\n",
              "    <tr>\n",
              "      <th>2</th>\n",
              "      <td>2019-10-07 18:23:29.611351</td>\n",
              "      <td>14338</td>\n",
              "      <td>gad7</td>\n",
              "      <td>2019-06-03 13:32:30.668460</td>\n",
              "      <td>10</td>\n",
              "    </tr>\n",
              "    <tr>\n",
              "      <th>3</th>\n",
              "      <td>2019-11-04 20:16:28.610965</td>\n",
              "      <td>14338</td>\n",
              "      <td>gad7</td>\n",
              "      <td>2019-06-03 13:32:30.668460</td>\n",
              "      <td>7</td>\n",
              "    </tr>\n",
              "    <tr>\n",
              "      <th>4</th>\n",
              "      <td>2019-12-02 20:56:55.966354</td>\n",
              "      <td>14338</td>\n",
              "      <td>gad7</td>\n",
              "      <td>2019-06-03 13:32:30.668460</td>\n",
              "      <td>9</td>\n",
              "    </tr>\n",
              "    <tr>\n",
              "      <th>...</th>\n",
              "      <td>...</td>\n",
              "      <td>...</td>\n",
              "      <td>...</td>\n",
              "      <td>...</td>\n",
              "      <td>...</td>\n",
              "    </tr>\n",
              "    <tr>\n",
              "      <th>53693</th>\n",
              "      <td>2020-07-31 13:59:13.201741</td>\n",
              "      <td>10683</td>\n",
              "      <td>gad7</td>\n",
              "      <td>2020-07-31 13:54:20.164253</td>\n",
              "      <td>1</td>\n",
              "    </tr>\n",
              "    <tr>\n",
              "      <th>53694</th>\n",
              "      <td>2020-07-31 15:08:56.079027</td>\n",
              "      <td>12344</td>\n",
              "      <td>gad7</td>\n",
              "      <td>2020-07-31 15:06:51.043730</td>\n",
              "      <td>1</td>\n",
              "    </tr>\n",
              "    <tr>\n",
              "      <th>53695</th>\n",
              "      <td>2020-07-31 15:52:50.353265</td>\n",
              "      <td>17475</td>\n",
              "      <td>gad7</td>\n",
              "      <td>2020-07-31 15:40:07.726529</td>\n",
              "      <td>7</td>\n",
              "    </tr>\n",
              "    <tr>\n",
              "      <th>53696</th>\n",
              "      <td>2020-07-31 17:36:57.057913</td>\n",
              "      <td>9069</td>\n",
              "      <td>gad7</td>\n",
              "      <td>2020-07-31 17:33:27.096572</td>\n",
              "      <td>3</td>\n",
              "    </tr>\n",
              "    <tr>\n",
              "      <th>53697</th>\n",
              "      <td>2020-07-31 17:58:53.067462</td>\n",
              "      <td>4870</td>\n",
              "      <td>gad7</td>\n",
              "      <td>2020-07-31 17:58:21.004418</td>\n",
              "      <td>4</td>\n",
              "    </tr>\n",
              "  </tbody>\n",
              "</table>\n",
              "<p>53698 rows × 5 columns</p>\n",
              "</div>"
            ],
            "text/plain": [
              "                            date  patient_id  ...       patient_date_created score\n",
              "0     2019-08-26 13:32:43.019162        8430  ... 2019-06-03 13:23:02.635680     6\n",
              "1     2019-11-15 17:55:11.364877        8430  ... 2019-06-03 13:23:02.635680     1\n",
              "2     2019-10-07 18:23:29.611351       14338  ... 2019-06-03 13:32:30.668460    10\n",
              "3     2019-11-04 20:16:28.610965       14338  ... 2019-06-03 13:32:30.668460     7\n",
              "4     2019-12-02 20:56:55.966354       14338  ... 2019-06-03 13:32:30.668460     9\n",
              "...                          ...         ...  ...                        ...   ...\n",
              "53693 2020-07-31 13:59:13.201741       10683  ... 2020-07-31 13:54:20.164253     1\n",
              "53694 2020-07-31 15:08:56.079027       12344  ... 2020-07-31 15:06:51.043730     1\n",
              "53695 2020-07-31 15:52:50.353265       17475  ... 2020-07-31 15:40:07.726529     7\n",
              "53696 2020-07-31 17:36:57.057913        9069  ... 2020-07-31 17:33:27.096572     3\n",
              "53697 2020-07-31 17:58:53.067462        4870  ... 2020-07-31 17:58:21.004418     4\n",
              "\n",
              "[53698 rows x 5 columns]"
            ]
          },
          "metadata": {
            "tags": []
          },
          "execution_count": 62
        }
      ]
    },
    {
      "cell_type": "code",
      "metadata": {
        "colab": {
          "base_uri": "https://localhost:8080/",
          "height": 419
        },
        "id": "KOfuXC8K9vR4",
        "outputId": "e65c0fdc-c082-4721-d17a-c643160652d6"
      },
      "source": [
        "# Create bins to categorize each GAD7 score to severity level.\n",
        "bins = [-1, 5, 11, 15, np.inf]\n",
        "\n",
        "# Name each corresponding bin.\n",
        "names = ['Low to Minimal', 'Mild','Moderate','Severe']\n",
        "\n",
        "# Using pd.cut create a new dataframe based on the bins created for severity level.\n",
        "df['severity_level'] = pd.cut(df['score'], bins, labels=names)\n",
        "df"
      ],
      "execution_count": 80,
      "outputs": [
        {
          "output_type": "execute_result",
          "data": {
            "text/html": [
              "<div>\n",
              "<style scoped>\n",
              "    .dataframe tbody tr th:only-of-type {\n",
              "        vertical-align: middle;\n",
              "    }\n",
              "\n",
              "    .dataframe tbody tr th {\n",
              "        vertical-align: top;\n",
              "    }\n",
              "\n",
              "    .dataframe thead th {\n",
              "        text-align: right;\n",
              "    }\n",
              "</style>\n",
              "<table border=\"1\" class=\"dataframe\">\n",
              "  <thead>\n",
              "    <tr style=\"text-align: right;\">\n",
              "      <th></th>\n",
              "      <th>date</th>\n",
              "      <th>patient_id</th>\n",
              "      <th>type</th>\n",
              "      <th>patient_date_created</th>\n",
              "      <th>score</th>\n",
              "      <th>severity_level</th>\n",
              "    </tr>\n",
              "  </thead>\n",
              "  <tbody>\n",
              "    <tr>\n",
              "      <th>0</th>\n",
              "      <td>2019-08-26 13:32:43.019162</td>\n",
              "      <td>8430</td>\n",
              "      <td>gad7</td>\n",
              "      <td>2019-06-03 13:23:02.635680</td>\n",
              "      <td>6</td>\n",
              "      <td>Mild</td>\n",
              "    </tr>\n",
              "    <tr>\n",
              "      <th>1</th>\n",
              "      <td>2019-11-15 17:55:11.364877</td>\n",
              "      <td>8430</td>\n",
              "      <td>gad7</td>\n",
              "      <td>2019-06-03 13:23:02.635680</td>\n",
              "      <td>1</td>\n",
              "      <td>Low to Minimal</td>\n",
              "    </tr>\n",
              "    <tr>\n",
              "      <th>2</th>\n",
              "      <td>2019-10-07 18:23:29.611351</td>\n",
              "      <td>14338</td>\n",
              "      <td>gad7</td>\n",
              "      <td>2019-06-03 13:32:30.668460</td>\n",
              "      <td>10</td>\n",
              "      <td>Mild</td>\n",
              "    </tr>\n",
              "    <tr>\n",
              "      <th>3</th>\n",
              "      <td>2019-11-04 20:16:28.610965</td>\n",
              "      <td>14338</td>\n",
              "      <td>gad7</td>\n",
              "      <td>2019-06-03 13:32:30.668460</td>\n",
              "      <td>7</td>\n",
              "      <td>Mild</td>\n",
              "    </tr>\n",
              "    <tr>\n",
              "      <th>4</th>\n",
              "      <td>2019-12-02 20:56:55.966354</td>\n",
              "      <td>14338</td>\n",
              "      <td>gad7</td>\n",
              "      <td>2019-06-03 13:32:30.668460</td>\n",
              "      <td>9</td>\n",
              "      <td>Mild</td>\n",
              "    </tr>\n",
              "    <tr>\n",
              "      <th>...</th>\n",
              "      <td>...</td>\n",
              "      <td>...</td>\n",
              "      <td>...</td>\n",
              "      <td>...</td>\n",
              "      <td>...</td>\n",
              "      <td>...</td>\n",
              "    </tr>\n",
              "    <tr>\n",
              "      <th>53693</th>\n",
              "      <td>2020-07-31 13:59:13.201741</td>\n",
              "      <td>10683</td>\n",
              "      <td>gad7</td>\n",
              "      <td>2020-07-31 13:54:20.164253</td>\n",
              "      <td>1</td>\n",
              "      <td>Low to Minimal</td>\n",
              "    </tr>\n",
              "    <tr>\n",
              "      <th>53694</th>\n",
              "      <td>2020-07-31 15:08:56.079027</td>\n",
              "      <td>12344</td>\n",
              "      <td>gad7</td>\n",
              "      <td>2020-07-31 15:06:51.043730</td>\n",
              "      <td>1</td>\n",
              "      <td>Low to Minimal</td>\n",
              "    </tr>\n",
              "    <tr>\n",
              "      <th>53695</th>\n",
              "      <td>2020-07-31 15:52:50.353265</td>\n",
              "      <td>17475</td>\n",
              "      <td>gad7</td>\n",
              "      <td>2020-07-31 15:40:07.726529</td>\n",
              "      <td>7</td>\n",
              "      <td>Mild</td>\n",
              "    </tr>\n",
              "    <tr>\n",
              "      <th>53696</th>\n",
              "      <td>2020-07-31 17:36:57.057913</td>\n",
              "      <td>9069</td>\n",
              "      <td>gad7</td>\n",
              "      <td>2020-07-31 17:33:27.096572</td>\n",
              "      <td>3</td>\n",
              "      <td>Low to Minimal</td>\n",
              "    </tr>\n",
              "    <tr>\n",
              "      <th>53697</th>\n",
              "      <td>2020-07-31 17:58:53.067462</td>\n",
              "      <td>4870</td>\n",
              "      <td>gad7</td>\n",
              "      <td>2020-07-31 17:58:21.004418</td>\n",
              "      <td>4</td>\n",
              "      <td>Low to Minimal</td>\n",
              "    </tr>\n",
              "  </tbody>\n",
              "</table>\n",
              "<p>53698 rows × 6 columns</p>\n",
              "</div>"
            ],
            "text/plain": [
              "                            date  patient_id  ... score  severity_level\n",
              "0     2019-08-26 13:32:43.019162        8430  ...     6            Mild\n",
              "1     2019-11-15 17:55:11.364877        8430  ...     1  Low to Minimal\n",
              "2     2019-10-07 18:23:29.611351       14338  ...    10            Mild\n",
              "3     2019-11-04 20:16:28.610965       14338  ...     7            Mild\n",
              "4     2019-12-02 20:56:55.966354       14338  ...     9            Mild\n",
              "...                          ...         ...  ...   ...             ...\n",
              "53693 2020-07-31 13:59:13.201741       10683  ...     1  Low to Minimal\n",
              "53694 2020-07-31 15:08:56.079027       12344  ...     1  Low to Minimal\n",
              "53695 2020-07-31 15:52:50.353265       17475  ...     7            Mild\n",
              "53696 2020-07-31 17:36:57.057913        9069  ...     3  Low to Minimal\n",
              "53697 2020-07-31 17:58:53.067462        4870  ...     4  Low to Minimal\n",
              "\n",
              "[53698 rows x 6 columns]"
            ]
          },
          "metadata": {
            "tags": []
          },
          "execution_count": 80
        }
      ]
    },
    {
      "cell_type": "code",
      "metadata": {
        "colab": {
          "base_uri": "https://localhost:8080/"
        },
        "id": "7Ps8Z4w2DyWv",
        "outputId": "b6089f95-917b-4922-9b8e-04e0dca6259c"
      },
      "source": [
        "# Count number of severity level responses total in dataframe.\n",
        "df[('severity_level')].value_counts()\n"
      ],
      "execution_count": 83,
      "outputs": [
        {
          "output_type": "execute_result",
          "data": {
            "text/plain": [
              "Low to Minimal    35402\n",
              "Mild              11429\n",
              "Moderate           3497\n",
              "Severe             3370\n",
              "Name: severity_level, dtype: int64"
            ]
          },
          "metadata": {
            "tags": []
          },
          "execution_count": 83
        }
      ]
    },
    {
      "cell_type": "markdown",
      "metadata": {
        "id": "Q7XieRMd3M_w"
      },
      "source": [
        "**Given the information you have and any light research you’d like to do on the topic, what insights can you draw?**"
      ]
    },
    {
      "cell_type": "markdown",
      "metadata": {
        "id": "cPC_Jnyn6_KV"
      },
      "source": [
        "From this dataset, there are 15,502 patients seeing mental health providers. There are more \"Low to minimal\" responses within the dataset with the number of \"Mild\", \"Moderate\", and \"Severe\" responses declining. There were likely more severe GAD7 scores to begin with, and as patients went to appointments with mental health professionals, the number of \"Moderate\", \"Mild\", and \"Low to Minimal\" severity levels accumulated as the patients felt better."
      ]
    },
    {
      "cell_type": "markdown",
      "metadata": {
        "id": "2g7a-hHX3QeN"
      },
      "source": [
        "**What assumptions have you made about the data?**"
      ]
    },
    {
      "cell_type": "markdown",
      "metadata": {
        "id": "yP-z2yng6-sT"
      },
      "source": [
        "Each time a patient visits their mental health provider, their score from the GAD7 will go down."
      ]
    },
    {
      "cell_type": "markdown",
      "metadata": {
        "id": "rxlznVB73TpH"
      },
      "source": [
        "**What are 2-3 additional pieces of information that would be important to collect?**"
      ]
    },
    {
      "cell_type": "markdown",
      "metadata": {
        "id": "8iNpvy6x6yWJ"
      },
      "source": [
        "1. The proposed treatment actions after each assessment.\n",
        "2. The number of meetings the patient has had with the mental health provider.\n",
        "3. Age and Gender of the patients."
      ]
    }
  ]
}